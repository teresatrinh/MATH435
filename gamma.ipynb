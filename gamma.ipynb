{
 "cells": [
  {
   "cell_type": "code",
   "execution_count": 1,
   "metadata": {},
   "outputs": [],
   "source": [
    "import pandas as pd \n",
    "import numpy as np \n",
    "from sklearn.model_selection import train_test_split\n",
    "from sklearn.preprocessing import StandardScaler\n",
    "from sklearn.linear_model import Lasso, Ridge, ElasticNet\n",
    "from sklearn.metrics import mean_squared_error, r2_score\n",
    "from sklearn.model_selection import GridSearchCV"
   ]
  },
  {
   "cell_type": "code",
   "execution_count": 2,
   "metadata": {},
   "outputs": [],
   "source": [
    "data08 = pd.read_csv(\"NE_LINCOLN_2008.csv\")\n",
    "data09 = pd.read_csv(\"NE_LINCOLN_2009.csv\")\n",
    "data10 = pd.read_csv(\"NE_LINCOLN_2010.csv\")\n",
    "data11 = pd.read_csv(\"NE_LINCOLN_2011.csv\")\n",
    "data12 = pd.read_csv(\"NE_LINCOLN_2012.csv\")\n",
    "data13 = pd.read_csv(\"NE_LINCOLN_2013.csv\")\n",
    "data14 = pd.read_csv(\"NE_LINCOLN_2014.csv\")\n",
    "data15 = pd.read_csv(\"NE_LINCOLN_2015.csv\")\n",
    "data16 = pd.read_csv(\"NE_LINCOLN_2016.csv\")\n",
    "data17 = pd.read_csv(\"NE_LINCOLN_2017.csv\")\n",
    "data18 = pd.read_csv(\"NE_LINCOLN_2018.csv\")\n",
    "data19 = pd.read_csv(\"NE_LINCOLN_2019.csv\")\n",
    "data20 = pd.read_csv(\"NE_LINCOLN_2020.csv\")\n",
    "data21 = pd.read_csv(\"NE_LINCOLN_2021.csv\")\n",
    "data22 = pd.read_csv(\"NE_LINCOLN_2022.csv\")\n",
    "data23 = pd.read_csv(\"NE_LINCOLN_2023.csv\")\n",
    "data24 = pd.read_csv(\"NE_LINCOLN_2024.csv\")\n",
    "data25 = pd.read_csv(\"NE_LINCOLN_2025 (1).csv\")\n"
   ]
  },
  {
   "cell_type": "code",
   "execution_count": 3,
   "metadata": {},
   "outputs": [
    {
     "data": {
      "text/plain": [
       "Index(['LOCATION_NAME', 'SAMPLE COLLECTION TIME',\n",
       "       'DOSE EQUIVALENT RATE (nSv/h)', 'GAMMA COUNT RATE R02 (CPM)',\n",
       "       'GAMMA COUNT RATE R03 (CPM)', 'GAMMA COUNT RATE R04 (CPM)',\n",
       "       'GAMMA COUNT RATE R05 (CPM)', 'GAMMA COUNT RATE R06 (CPM)',\n",
       "       'GAMMA COUNT RATE R07 (CPM)', 'GAMMA COUNT RATE R08 (CPM)',\n",
       "       'GAMMA COUNT RATE R09 (CPM)', 'STATUS'],\n",
       "      dtype='object')"
      ]
     },
     "execution_count": 3,
     "metadata": {},
     "output_type": "execute_result"
    }
   ],
   "source": [
    "data25.columns\n"
   ]
  },
  {
   "cell_type": "markdown",
   "metadata": {},
   "source": [
    "dose equiv rate in nanosieverts per hour= radiation exposure, how much radiation being absorbed by person at location over period of time\n",
    "CPM= counts per minute\n",
    "number of gamma radiation detected by the sensor ina minute\n",
    "04-09 measure gamma radiation at different angles and locations\n",
    "status= current state of condition"
   ]
  },
  {
   "cell_type": "code",
   "execution_count": 4,
   "metadata": {},
   "outputs": [
    {
     "name": "stdout",
     "output_type": "stream",
     "text": [
      "Lasso MSE: 134827.66930134513\n",
      "Ridge MSE: 132893.1582696898\n",
      "ElasticNet MSE: 258390.96433419615\n"
     ]
    },
    {
     "name": "stderr",
     "output_type": "stream",
     "text": [
      "/Users/hannah/Library/Python/3.10/lib/python/site-packages/sklearn/linear_model/_coordinate_descent.py:697: ConvergenceWarning: Objective did not converge. You might want to increase the number of iterations, check the scale of the features or consider increasing regularisation. Duality gap: 2.471e+08, tolerance: 6.711e+05\n",
      "  model = cd_fast.enet_coordinate_descent(\n"
     ]
    }
   ],
   "source": [
    "data08.dropna()\n",
    "numerical_features = ['GAMMA COUNT RATE R03 (CPM)', 'GAMMA COUNT RATE R04 (CPM)','GAMMA COUNT RATE R05 (CPM)', 'GAMMA COUNT RATE R06 (CPM)','GAMMA COUNT RATE R07 (CPM)', 'GAMMA COUNT RATE R08 (CPM)','GAMMA COUNT RATE R09 (CPM)']\n",
    "scaler = StandardScaler()\n",
    "data08[numerical_features] = scaler.fit_transform(data08[numerical_features])\n",
    "\n",
    "# Split the dataset into features (X) and target (y)\n",
    "X = data08.drop(columns=['DOSE EQUIVALENT RATE (nSv/h)', 'LOCATION_NAME', 'SAMPLE COLLECTION TIME', 'STATUS','GAMMA COUNT RATE R02 (CPM)'])\n",
    "y = data08['GAMMA COUNT RATE R02 (CPM)']\n",
    "\n",
    "# Split data into training and testing sets\n",
    "X_train, X_test, y_train, y_test = train_test_split(X, y, test_size=0.2, random_state=42)\n",
    "\n",
    "# Initialize the models: Lasso, Ridge, and ElasticNet\n",
    "lasso = Lasso(alpha=0.1)\n",
    "ridge = Ridge(alpha=0.1)\n",
    "elastic_net = ElasticNet(alpha=0.1, l1_ratio=0.5)\n",
    "\n",
    "# Train the models\n",
    "lasso.fit(X_train, y_train)\n",
    "ridge.fit(X_train, y_train)\n",
    "elastic_net.fit(X_train, y_train)\n",
    "\n",
    "# Make predictions\n",
    "lasso_pred = lasso.predict(X_test)\n",
    "ridge_pred = ridge.predict(X_test)\n",
    "elastic_net_pred = elastic_net.predict(X_test)\n",
    "\n",
    "# Calculate the Mean Squared Error (MSE) for each model\n",
    "lasso_mse = mean_squared_error(y_test, lasso_pred)\n",
    "ridge_mse = mean_squared_error(y_test, ridge_pred)\n",
    "elastic_net_mse = mean_squared_error(y_test, elastic_net_pred)\n",
    "\n",
    "print(f\"Lasso MSE: {lasso_mse}\")\n",
    "print(f\"Ridge MSE: {ridge_mse}\")\n",
    "print(f\"ElasticNet MSE: {elastic_net_mse}\")"
   ]
  },
  {
   "cell_type": "code",
   "execution_count": 5,
   "metadata": {},
   "outputs": [
    {
     "name": "stdout",
     "output_type": "stream",
     "text": [
      "Ridge: \n",
      "RMSE = 364.55\n",
      "R2 = 0.93\n",
      "\n",
      "Lasso: \n",
      "RMSE = 367.19\n",
      "R2 = 0.93\n",
      "\n",
      "ElasticNet: \n",
      "RMSE = 508.32\n",
      "R2 = 0.86\n",
      "\n"
     ]
    }
   ],
   "source": [
    "def evaluate_model(predictions, model_name):\n",
    "    rmse = np.sqrt(mean_squared_error(y_test, predictions))\n",
    "    r2 = r2_score(y_test, predictions)\n",
    "    print(f\"{model_name}: \")\n",
    "    print(f\"RMSE = {rmse:.2f}\")\n",
    "    print(f\"R2 = {r2:.2f}\\n\")\n",
    "\n",
    "\n",
    "\n",
    "evaluate_model(ridge_pred, \"Ridge\")\n",
    "evaluate_model(lasso_pred, \"Lasso\")\n",
    "evaluate_model(elastic_net_pred, \"ElasticNet\")"
   ]
  },
  {
   "cell_type": "code",
   "execution_count": 6,
   "metadata": {},
   "outputs": [
    {
     "name": "stderr",
     "output_type": "stream",
     "text": [
      "/Users/hannah/Library/Python/3.10/lib/python/site-packages/sklearn/linear_model/_coordinate_descent.py:697: ConvergenceWarning: Objective did not converge. You might want to increase the number of iterations, check the scale of the features or consider increasing regularisation. Duality gap: 2.220e+08, tolerance: 5.444e+05\n",
      "  model = cd_fast.enet_coordinate_descent(\n",
      "/Users/hannah/Library/Python/3.10/lib/python/site-packages/sklearn/linear_model/_coordinate_descent.py:697: ConvergenceWarning: Objective did not converge. You might want to increase the number of iterations, check the scale of the features or consider increasing regularisation. Duality gap: 2.134e+08, tolerance: 5.289e+05\n",
      "  model = cd_fast.enet_coordinate_descent(\n",
      "/Users/hannah/Library/Python/3.10/lib/python/site-packages/sklearn/linear_model/_coordinate_descent.py:697: ConvergenceWarning: Objective did not converge. You might want to increase the number of iterations, check the scale of the features or consider increasing regularisation. Duality gap: 2.277e+08, tolerance: 5.409e+05\n",
      "  model = cd_fast.enet_coordinate_descent(\n",
      "/Users/hannah/Library/Python/3.10/lib/python/site-packages/sklearn/linear_model/_coordinate_descent.py:697: ConvergenceWarning: Objective did not converge. You might want to increase the number of iterations, check the scale of the features or consider increasing regularisation. Duality gap: 2.114e+08, tolerance: 5.292e+05\n",
      "  model = cd_fast.enet_coordinate_descent(\n",
      "/Users/hannah/Library/Python/3.10/lib/python/site-packages/sklearn/linear_model/_coordinate_descent.py:697: ConvergenceWarning: Objective did not converge. You might want to increase the number of iterations, check the scale of the features or consider increasing regularisation. Duality gap: 2.200e+08, tolerance: 5.404e+05\n",
      "  model = cd_fast.enet_coordinate_descent(\n",
      "/Users/hannah/Library/Python/3.10/lib/python/site-packages/sklearn/linear_model/_coordinate_descent.py:697: ConvergenceWarning: Objective did not converge. You might want to increase the number of iterations, check the scale of the features or consider increasing regularisation. Duality gap: 2.220e+08, tolerance: 5.444e+05\n",
      "  model = cd_fast.enet_coordinate_descent(\n",
      "/Users/hannah/Library/Python/3.10/lib/python/site-packages/sklearn/linear_model/_coordinate_descent.py:697: ConvergenceWarning: Objective did not converge. You might want to increase the number of iterations, check the scale of the features or consider increasing regularisation. Duality gap: 2.134e+08, tolerance: 5.289e+05\n",
      "  model = cd_fast.enet_coordinate_descent(\n",
      "/Users/hannah/Library/Python/3.10/lib/python/site-packages/sklearn/linear_model/_coordinate_descent.py:697: ConvergenceWarning: Objective did not converge. You might want to increase the number of iterations, check the scale of the features or consider increasing regularisation. Duality gap: 2.277e+08, tolerance: 5.409e+05\n",
      "  model = cd_fast.enet_coordinate_descent(\n",
      "/Users/hannah/Library/Python/3.10/lib/python/site-packages/sklearn/linear_model/_coordinate_descent.py:697: ConvergenceWarning: Objective did not converge. You might want to increase the number of iterations, check the scale of the features or consider increasing regularisation. Duality gap: 2.114e+08, tolerance: 5.292e+05\n",
      "  model = cd_fast.enet_coordinate_descent(\n",
      "/Users/hannah/Library/Python/3.10/lib/python/site-packages/sklearn/linear_model/_coordinate_descent.py:697: ConvergenceWarning: Objective did not converge. You might want to increase the number of iterations, check the scale of the features or consider increasing regularisation. Duality gap: 2.200e+08, tolerance: 5.404e+05\n",
      "  model = cd_fast.enet_coordinate_descent(\n",
      "/Users/hannah/Library/Python/3.10/lib/python/site-packages/sklearn/linear_model/_coordinate_descent.py:697: ConvergenceWarning: Objective did not converge. You might want to increase the number of iterations, check the scale of the features or consider increasing regularisation. Duality gap: 2.219e+08, tolerance: 5.444e+05\n",
      "  model = cd_fast.enet_coordinate_descent(\n",
      "/Users/hannah/Library/Python/3.10/lib/python/site-packages/sklearn/linear_model/_coordinate_descent.py:697: ConvergenceWarning: Objective did not converge. You might want to increase the number of iterations, check the scale of the features or consider increasing regularisation. Duality gap: 2.133e+08, tolerance: 5.289e+05\n",
      "  model = cd_fast.enet_coordinate_descent(\n",
      "/Users/hannah/Library/Python/3.10/lib/python/site-packages/sklearn/linear_model/_coordinate_descent.py:697: ConvergenceWarning: Objective did not converge. You might want to increase the number of iterations, check the scale of the features or consider increasing regularisation. Duality gap: 2.276e+08, tolerance: 5.409e+05\n",
      "  model = cd_fast.enet_coordinate_descent(\n",
      "/Users/hannah/Library/Python/3.10/lib/python/site-packages/sklearn/linear_model/_coordinate_descent.py:697: ConvergenceWarning: Objective did not converge. You might want to increase the number of iterations, check the scale of the features or consider increasing regularisation. Duality gap: 2.113e+08, tolerance: 5.292e+05\n",
      "  model = cd_fast.enet_coordinate_descent(\n",
      "/Users/hannah/Library/Python/3.10/lib/python/site-packages/sklearn/linear_model/_coordinate_descent.py:697: ConvergenceWarning: Objective did not converge. You might want to increase the number of iterations, check the scale of the features or consider increasing regularisation. Duality gap: 2.199e+08, tolerance: 5.404e+05\n",
      "  model = cd_fast.enet_coordinate_descent(\n",
      "/Users/hannah/Library/Python/3.10/lib/python/site-packages/sklearn/linear_model/_coordinate_descent.py:697: ConvergenceWarning: Objective did not converge. You might want to increase the number of iterations, check the scale of the features or consider increasing regularisation. Duality gap: 2.218e+08, tolerance: 5.444e+05\n",
      "  model = cd_fast.enet_coordinate_descent(\n",
      "/Users/hannah/Library/Python/3.10/lib/python/site-packages/sklearn/linear_model/_coordinate_descent.py:697: ConvergenceWarning: Objective did not converge. You might want to increase the number of iterations, check the scale of the features or consider increasing regularisation. Duality gap: 2.132e+08, tolerance: 5.289e+05\n",
      "  model = cd_fast.enet_coordinate_descent(\n",
      "/Users/hannah/Library/Python/3.10/lib/python/site-packages/sklearn/linear_model/_coordinate_descent.py:697: ConvergenceWarning: Objective did not converge. You might want to increase the number of iterations, check the scale of the features or consider increasing regularisation. Duality gap: 2.275e+08, tolerance: 5.409e+05\n",
      "  model = cd_fast.enet_coordinate_descent(\n"
     ]
    },
    {
     "name": "stdout",
     "output_type": "stream",
     "text": [
      "Best alpha: 5e-05\n"
     ]
    },
    {
     "name": "stderr",
     "output_type": "stream",
     "text": [
      "/Users/hannah/Library/Python/3.10/lib/python/site-packages/sklearn/linear_model/_coordinate_descent.py:697: ConvergenceWarning: Objective did not converge. You might want to increase the number of iterations, check the scale of the features or consider increasing regularisation. Duality gap: 2.112e+08, tolerance: 5.292e+05\n",
      "  model = cd_fast.enet_coordinate_descent(\n",
      "/Users/hannah/Library/Python/3.10/lib/python/site-packages/sklearn/linear_model/_coordinate_descent.py:697: ConvergenceWarning: Objective did not converge. You might want to increase the number of iterations, check the scale of the features or consider increasing regularisation. Duality gap: 2.198e+08, tolerance: 5.404e+05\n",
      "  model = cd_fast.enet_coordinate_descent(\n",
      "/Users/hannah/Library/Python/3.10/lib/python/site-packages/sklearn/linear_model/_coordinate_descent.py:697: ConvergenceWarning: Objective did not converge. You might want to increase the number of iterations, check the scale of the features or consider increasing regularisation. Duality gap: 2.740e+08, tolerance: 6.711e+05\n",
      "  model = cd_fast.enet_coordinate_descent(\n"
     ]
    }
   ],
   "source": [
    "# hyperparameter tuning for lasso\n",
    "param_grid = {'alpha': [0.00005, 0.0001, 0.0005,0.001]}\n",
    "grid_search = GridSearchCV(Lasso(), param_grid, cv=5, scoring='neg_mean_squared_error')\n",
    "grid_search.fit(X_train, y_train)\n",
    "print(f\"Best alpha: {grid_search.best_params_['alpha']}\")"
   ]
  },
  {
   "cell_type": "code",
   "execution_count": 7,
   "metadata": {},
   "outputs": [
    {
     "name": "stdout",
     "output_type": "stream",
     "text": [
      "Best alpha: 0.05\n"
     ]
    }
   ],
   "source": [
    "# hyperparameter tuning for ridge\n",
    "param_grid = {'alpha': [0.001, 0.005, 0.05, 0.1]}\n",
    "grid_search = GridSearchCV(Ridge(), param_grid, cv=5, scoring='neg_mean_squared_error')\n",
    "grid_search.fit(X_train, y_train)\n",
    "print(f\"Best alpha: {grid_search.best_params_['alpha']}\")"
   ]
  },
  {
   "cell_type": "markdown",
   "metadata": {},
   "source": [
    "elastic net equivalent to lasso"
   ]
  },
  {
   "cell_type": "code",
   "execution_count": 13,
   "metadata": {},
   "outputs": [
    {
     "name": "stderr",
     "output_type": "stream",
     "text": [
      "/Users/hannah/Library/Python/3.10/lib/python/site-packages/sklearn/linear_model/_coordinate_descent.py:697: ConvergenceWarning: Objective did not converge. You might want to increase the number of iterations, check the scale of the features or consider increasing regularisation. Duality gap: 2.226e+08, tolerance: 5.444e+05\n",
      "  model = cd_fast.enet_coordinate_descent(\n",
      "/Users/hannah/Library/Python/3.10/lib/python/site-packages/sklearn/linear_model/_coordinate_descent.py:697: ConvergenceWarning: Objective did not converge. You might want to increase the number of iterations, check the scale of the features or consider increasing regularisation. Duality gap: 2.141e+08, tolerance: 5.289e+05\n",
      "  model = cd_fast.enet_coordinate_descent(\n",
      "/Users/hannah/Library/Python/3.10/lib/python/site-packages/sklearn/linear_model/_coordinate_descent.py:697: ConvergenceWarning: Objective did not converge. You might want to increase the number of iterations, check the scale of the features or consider increasing regularisation. Duality gap: 2.283e+08, tolerance: 5.409e+05\n",
      "  model = cd_fast.enet_coordinate_descent(\n",
      "/Users/hannah/Library/Python/3.10/lib/python/site-packages/sklearn/linear_model/_coordinate_descent.py:697: ConvergenceWarning: Objective did not converge. You might want to increase the number of iterations, check the scale of the features or consider increasing regularisation. Duality gap: 2.119e+08, tolerance: 5.292e+05\n",
      "  model = cd_fast.enet_coordinate_descent(\n",
      "/Users/hannah/Library/Python/3.10/lib/python/site-packages/sklearn/linear_model/_coordinate_descent.py:697: ConvergenceWarning: Objective did not converge. You might want to increase the number of iterations, check the scale of the features or consider increasing regularisation. Duality gap: 2.206e+08, tolerance: 5.404e+05\n",
      "  model = cd_fast.enet_coordinate_descent(\n",
      "/Users/hannah/Library/Python/3.10/lib/python/site-packages/sklearn/linear_model/_coordinate_descent.py:697: ConvergenceWarning: Objective did not converge. You might want to increase the number of iterations, check the scale of the features or consider increasing regularisation. Duality gap: 2.222e+08, tolerance: 5.444e+05\n",
      "  model = cd_fast.enet_coordinate_descent(\n",
      "/Users/hannah/Library/Python/3.10/lib/python/site-packages/sklearn/linear_model/_coordinate_descent.py:697: ConvergenceWarning: Objective did not converge. You might want to increase the number of iterations, check the scale of the features or consider increasing regularisation. Duality gap: 2.137e+08, tolerance: 5.289e+05\n",
      "  model = cd_fast.enet_coordinate_descent(\n",
      "/Users/hannah/Library/Python/3.10/lib/python/site-packages/sklearn/linear_model/_coordinate_descent.py:697: ConvergenceWarning: Objective did not converge. You might want to increase the number of iterations, check the scale of the features or consider increasing regularisation. Duality gap: 2.279e+08, tolerance: 5.409e+05\n",
      "  model = cd_fast.enet_coordinate_descent(\n",
      "/Users/hannah/Library/Python/3.10/lib/python/site-packages/sklearn/linear_model/_coordinate_descent.py:697: ConvergenceWarning: Objective did not converge. You might want to increase the number of iterations, check the scale of the features or consider increasing regularisation. Duality gap: 2.116e+08, tolerance: 5.292e+05\n",
      "  model = cd_fast.enet_coordinate_descent(\n",
      "/Users/hannah/Library/Python/3.10/lib/python/site-packages/sklearn/linear_model/_coordinate_descent.py:697: ConvergenceWarning: Objective did not converge. You might want to increase the number of iterations, check the scale of the features or consider increasing regularisation. Duality gap: 2.202e+08, tolerance: 5.404e+05\n",
      "  model = cd_fast.enet_coordinate_descent(\n",
      "/Users/hannah/Library/Python/3.10/lib/python/site-packages/sklearn/linear_model/_coordinate_descent.py:697: ConvergenceWarning: Objective did not converge. You might want to increase the number of iterations, check the scale of the features or consider increasing regularisation. Duality gap: 2.221e+08, tolerance: 5.444e+05\n",
      "  model = cd_fast.enet_coordinate_descent(\n",
      "/Users/hannah/Library/Python/3.10/lib/python/site-packages/sklearn/linear_model/_coordinate_descent.py:697: ConvergenceWarning: Objective did not converge. You might want to increase the number of iterations, check the scale of the features or consider increasing regularisation. Duality gap: 2.135e+08, tolerance: 5.289e+05\n",
      "  model = cd_fast.enet_coordinate_descent(\n",
      "/Users/hannah/Library/Python/3.10/lib/python/site-packages/sklearn/linear_model/_coordinate_descent.py:697: ConvergenceWarning: Objective did not converge. You might want to increase the number of iterations, check the scale of the features or consider increasing regularisation. Duality gap: 2.278e+08, tolerance: 5.409e+05\n",
      "  model = cd_fast.enet_coordinate_descent(\n",
      "/Users/hannah/Library/Python/3.10/lib/python/site-packages/sklearn/linear_model/_coordinate_descent.py:697: ConvergenceWarning: Objective did not converge. You might want to increase the number of iterations, check the scale of the features or consider increasing regularisation. Duality gap: 2.115e+08, tolerance: 5.292e+05\n",
      "  model = cd_fast.enet_coordinate_descent(\n",
      "/Users/hannah/Library/Python/3.10/lib/python/site-packages/sklearn/linear_model/_coordinate_descent.py:697: ConvergenceWarning: Objective did not converge. You might want to increase the number of iterations, check the scale of the features or consider increasing regularisation. Duality gap: 2.201e+08, tolerance: 5.404e+05\n",
      "  model = cd_fast.enet_coordinate_descent(\n",
      "/Users/hannah/Library/Python/3.10/lib/python/site-packages/sklearn/linear_model/_coordinate_descent.py:697: ConvergenceWarning: Objective did not converge. You might want to increase the number of iterations, check the scale of the features or consider increasing regularisation. Duality gap: 2.220e+08, tolerance: 5.444e+05\n",
      "  model = cd_fast.enet_coordinate_descent(\n",
      "/Users/hannah/Library/Python/3.10/lib/python/site-packages/sklearn/linear_model/_coordinate_descent.py:697: ConvergenceWarning: Objective did not converge. You might want to increase the number of iterations, check the scale of the features or consider increasing regularisation. Duality gap: 2.134e+08, tolerance: 5.289e+05\n",
      "  model = cd_fast.enet_coordinate_descent(\n",
      "/Users/hannah/Library/Python/3.10/lib/python/site-packages/sklearn/linear_model/_coordinate_descent.py:697: ConvergenceWarning: Objective did not converge. You might want to increase the number of iterations, check the scale of the features or consider increasing regularisation. Duality gap: 2.277e+08, tolerance: 5.409e+05\n",
      "  model = cd_fast.enet_coordinate_descent(\n",
      "/Users/hannah/Library/Python/3.10/lib/python/site-packages/sklearn/linear_model/_coordinate_descent.py:697: ConvergenceWarning: Objective did not converge. You might want to increase the number of iterations, check the scale of the features or consider increasing regularisation. Duality gap: 2.114e+08, tolerance: 5.292e+05\n",
      "  model = cd_fast.enet_coordinate_descent(\n",
      "/Users/hannah/Library/Python/3.10/lib/python/site-packages/sklearn/linear_model/_coordinate_descent.py:697: ConvergenceWarning: Objective did not converge. You might want to increase the number of iterations, check the scale of the features or consider increasing regularisation. Duality gap: 2.200e+08, tolerance: 5.404e+05\n",
      "  model = cd_fast.enet_coordinate_descent(\n",
      "/Users/hannah/Library/Python/3.10/lib/python/site-packages/sklearn/linear_model/_coordinate_descent.py:697: ConvergenceWarning: Objective did not converge. You might want to increase the number of iterations, check the scale of the features or consider increasing regularisation. Duality gap: 2.249e+08, tolerance: 5.444e+05\n",
      "  model = cd_fast.enet_coordinate_descent(\n",
      "/Users/hannah/Library/Python/3.10/lib/python/site-packages/sklearn/linear_model/_coordinate_descent.py:697: ConvergenceWarning: Objective did not converge. You might want to increase the number of iterations, check the scale of the features or consider increasing regularisation. Duality gap: 2.166e+08, tolerance: 5.289e+05\n",
      "  model = cd_fast.enet_coordinate_descent(\n",
      "/Users/hannah/Library/Python/3.10/lib/python/site-packages/sklearn/linear_model/_coordinate_descent.py:697: ConvergenceWarning: Objective did not converge. You might want to increase the number of iterations, check the scale of the features or consider increasing regularisation. Duality gap: 2.305e+08, tolerance: 5.409e+05\n",
      "  model = cd_fast.enet_coordinate_descent(\n",
      "/Users/hannah/Library/Python/3.10/lib/python/site-packages/sklearn/linear_model/_coordinate_descent.py:697: ConvergenceWarning: Objective did not converge. You might want to increase the number of iterations, check the scale of the features or consider increasing regularisation. Duality gap: 2.140e+08, tolerance: 5.292e+05\n",
      "  model = cd_fast.enet_coordinate_descent(\n",
      "/Users/hannah/Library/Python/3.10/lib/python/site-packages/sklearn/linear_model/_coordinate_descent.py:697: ConvergenceWarning: Objective did not converge. You might want to increase the number of iterations, check the scale of the features or consider increasing regularisation. Duality gap: 2.227e+08, tolerance: 5.404e+05\n",
      "  model = cd_fast.enet_coordinate_descent(\n",
      "/Users/hannah/Library/Python/3.10/lib/python/site-packages/sklearn/linear_model/_coordinate_descent.py:697: ConvergenceWarning: Objective did not converge. You might want to increase the number of iterations, check the scale of the features or consider increasing regularisation. Duality gap: 2.231e+08, tolerance: 5.444e+05\n",
      "  model = cd_fast.enet_coordinate_descent(\n",
      "/Users/hannah/Library/Python/3.10/lib/python/site-packages/sklearn/linear_model/_coordinate_descent.py:697: ConvergenceWarning: Objective did not converge. You might want to increase the number of iterations, check the scale of the features or consider increasing regularisation. Duality gap: 2.146e+08, tolerance: 5.289e+05\n",
      "  model = cd_fast.enet_coordinate_descent(\n",
      "/Users/hannah/Library/Python/3.10/lib/python/site-packages/sklearn/linear_model/_coordinate_descent.py:697: ConvergenceWarning: Objective did not converge. You might want to increase the number of iterations, check the scale of the features or consider increasing regularisation. Duality gap: 2.288e+08, tolerance: 5.409e+05\n",
      "  model = cd_fast.enet_coordinate_descent(\n",
      "/Users/hannah/Library/Python/3.10/lib/python/site-packages/sklearn/linear_model/_coordinate_descent.py:697: ConvergenceWarning: Objective did not converge. You might want to increase the number of iterations, check the scale of the features or consider increasing regularisation. Duality gap: 2.124e+08, tolerance: 5.292e+05\n",
      "  model = cd_fast.enet_coordinate_descent(\n",
      "/Users/hannah/Library/Python/3.10/lib/python/site-packages/sklearn/linear_model/_coordinate_descent.py:697: ConvergenceWarning: Objective did not converge. You might want to increase the number of iterations, check the scale of the features or consider increasing regularisation. Duality gap: 2.210e+08, tolerance: 5.404e+05\n",
      "  model = cd_fast.enet_coordinate_descent(\n",
      "/Users/hannah/Library/Python/3.10/lib/python/site-packages/sklearn/linear_model/_coordinate_descent.py:697: ConvergenceWarning: Objective did not converge. You might want to increase the number of iterations, check the scale of the features or consider increasing regularisation. Duality gap: 2.225e+08, tolerance: 5.444e+05\n",
      "  model = cd_fast.enet_coordinate_descent(\n",
      "/Users/hannah/Library/Python/3.10/lib/python/site-packages/sklearn/linear_model/_coordinate_descent.py:697: ConvergenceWarning: Objective did not converge. You might want to increase the number of iterations, check the scale of the features or consider increasing regularisation. Duality gap: 2.140e+08, tolerance: 5.289e+05\n",
      "  model = cd_fast.enet_coordinate_descent(\n",
      "/Users/hannah/Library/Python/3.10/lib/python/site-packages/sklearn/linear_model/_coordinate_descent.py:697: ConvergenceWarning: Objective did not converge. You might want to increase the number of iterations, check the scale of the features or consider increasing regularisation. Duality gap: 2.282e+08, tolerance: 5.409e+05\n",
      "  model = cd_fast.enet_coordinate_descent(\n",
      "/Users/hannah/Library/Python/3.10/lib/python/site-packages/sklearn/linear_model/_coordinate_descent.py:697: ConvergenceWarning: Objective did not converge. You might want to increase the number of iterations, check the scale of the features or consider increasing regularisation. Duality gap: 2.118e+08, tolerance: 5.292e+05\n",
      "  model = cd_fast.enet_coordinate_descent(\n",
      "/Users/hannah/Library/Python/3.10/lib/python/site-packages/sklearn/linear_model/_coordinate_descent.py:697: ConvergenceWarning: Objective did not converge. You might want to increase the number of iterations, check the scale of the features or consider increasing regularisation. Duality gap: 2.205e+08, tolerance: 5.404e+05\n",
      "  model = cd_fast.enet_coordinate_descent(\n",
      "/Users/hannah/Library/Python/3.10/lib/python/site-packages/sklearn/linear_model/_coordinate_descent.py:697: ConvergenceWarning: Objective did not converge. You might want to increase the number of iterations, check the scale of the features or consider increasing regularisation. Duality gap: 2.219e+08, tolerance: 5.444e+05\n",
      "  model = cd_fast.enet_coordinate_descent(\n",
      "/Users/hannah/Library/Python/3.10/lib/python/site-packages/sklearn/linear_model/_coordinate_descent.py:697: ConvergenceWarning: Objective did not converge. You might want to increase the number of iterations, check the scale of the features or consider increasing regularisation. Duality gap: 2.133e+08, tolerance: 5.289e+05\n",
      "  model = cd_fast.enet_coordinate_descent(\n",
      "/Users/hannah/Library/Python/3.10/lib/python/site-packages/sklearn/linear_model/_coordinate_descent.py:697: ConvergenceWarning: Objective did not converge. You might want to increase the number of iterations, check the scale of the features or consider increasing regularisation. Duality gap: 2.276e+08, tolerance: 5.409e+05\n",
      "  model = cd_fast.enet_coordinate_descent(\n",
      "/Users/hannah/Library/Python/3.10/lib/python/site-packages/sklearn/linear_model/_coordinate_descent.py:697: ConvergenceWarning: Objective did not converge. You might want to increase the number of iterations, check the scale of the features or consider increasing regularisation. Duality gap: 2.113e+08, tolerance: 5.292e+05\n",
      "  model = cd_fast.enet_coordinate_descent(\n",
      "/Users/hannah/Library/Python/3.10/lib/python/site-packages/sklearn/linear_model/_coordinate_descent.py:697: ConvergenceWarning: Objective did not converge. You might want to increase the number of iterations, check the scale of the features or consider increasing regularisation. Duality gap: 2.199e+08, tolerance: 5.404e+05\n",
      "  model = cd_fast.enet_coordinate_descent(\n",
      "/Users/hannah/Library/Python/3.10/lib/python/site-packages/sklearn/linear_model/_coordinate_descent.py:697: ConvergenceWarning: Objective did not converge. You might want to increase the number of iterations, check the scale of the features or consider increasing regularisation. Duality gap: 2.276e+08, tolerance: 5.444e+05\n",
      "  model = cd_fast.enet_coordinate_descent(\n",
      "/Users/hannah/Library/Python/3.10/lib/python/site-packages/sklearn/linear_model/_coordinate_descent.py:697: ConvergenceWarning: Objective did not converge. You might want to increase the number of iterations, check the scale of the features or consider increasing regularisation. Duality gap: 2.196e+08, tolerance: 5.289e+05\n",
      "  model = cd_fast.enet_coordinate_descent(\n",
      "/Users/hannah/Library/Python/3.10/lib/python/site-packages/sklearn/linear_model/_coordinate_descent.py:697: ConvergenceWarning: Objective did not converge. You might want to increase the number of iterations, check the scale of the features or consider increasing regularisation. Duality gap: 2.331e+08, tolerance: 5.409e+05\n",
      "  model = cd_fast.enet_coordinate_descent(\n",
      "/Users/hannah/Library/Python/3.10/lib/python/site-packages/sklearn/linear_model/_coordinate_descent.py:697: ConvergenceWarning: Objective did not converge. You might want to increase the number of iterations, check the scale of the features or consider increasing regularisation. Duality gap: 2.165e+08, tolerance: 5.292e+05\n",
      "  model = cd_fast.enet_coordinate_descent(\n",
      "/Users/hannah/Library/Python/3.10/lib/python/site-packages/sklearn/linear_model/_coordinate_descent.py:697: ConvergenceWarning: Objective did not converge. You might want to increase the number of iterations, check the scale of the features or consider increasing regularisation. Duality gap: 2.253e+08, tolerance: 5.404e+05\n",
      "  model = cd_fast.enet_coordinate_descent(\n",
      "/Users/hannah/Library/Python/3.10/lib/python/site-packages/sklearn/linear_model/_coordinate_descent.py:697: ConvergenceWarning: Objective did not converge. You might want to increase the number of iterations, check the scale of the features or consider increasing regularisation. Duality gap: 2.242e+08, tolerance: 5.444e+05\n",
      "  model = cd_fast.enet_coordinate_descent(\n",
      "/Users/hannah/Library/Python/3.10/lib/python/site-packages/sklearn/linear_model/_coordinate_descent.py:697: ConvergenceWarning: Objective did not converge. You might want to increase the number of iterations, check the scale of the features or consider increasing regularisation. Duality gap: 2.158e+08, tolerance: 5.289e+05\n",
      "  model = cd_fast.enet_coordinate_descent(\n",
      "/Users/hannah/Library/Python/3.10/lib/python/site-packages/sklearn/linear_model/_coordinate_descent.py:697: ConvergenceWarning: Objective did not converge. You might want to increase the number of iterations, check the scale of the features or consider increasing regularisation. Duality gap: 2.298e+08, tolerance: 5.409e+05\n",
      "  model = cd_fast.enet_coordinate_descent(\n",
      "/Users/hannah/Library/Python/3.10/lib/python/site-packages/sklearn/linear_model/_coordinate_descent.py:697: ConvergenceWarning: Objective did not converge. You might want to increase the number of iterations, check the scale of the features or consider increasing regularisation. Duality gap: 2.133e+08, tolerance: 5.292e+05\n",
      "  model = cd_fast.enet_coordinate_descent(\n",
      "/Users/hannah/Library/Python/3.10/lib/python/site-packages/sklearn/linear_model/_coordinate_descent.py:697: ConvergenceWarning: Objective did not converge. You might want to increase the number of iterations, check the scale of the features or consider increasing regularisation. Duality gap: 2.220e+08, tolerance: 5.404e+05\n",
      "  model = cd_fast.enet_coordinate_descent(\n",
      "/Users/hannah/Library/Python/3.10/lib/python/site-packages/sklearn/linear_model/_coordinate_descent.py:697: ConvergenceWarning: Objective did not converge. You might want to increase the number of iterations, check the scale of the features or consider increasing regularisation. Duality gap: 2.230e+08, tolerance: 5.444e+05\n",
      "  model = cd_fast.enet_coordinate_descent(\n",
      "/Users/hannah/Library/Python/3.10/lib/python/site-packages/sklearn/linear_model/_coordinate_descent.py:697: ConvergenceWarning: Objective did not converge. You might want to increase the number of iterations, check the scale of the features or consider increasing regularisation. Duality gap: 2.145e+08, tolerance: 5.289e+05\n",
      "  model = cd_fast.enet_coordinate_descent(\n",
      "/Users/hannah/Library/Python/3.10/lib/python/site-packages/sklearn/linear_model/_coordinate_descent.py:697: ConvergenceWarning: Objective did not converge. You might want to increase the number of iterations, check the scale of the features or consider increasing regularisation. Duality gap: 2.286e+08, tolerance: 5.409e+05\n",
      "  model = cd_fast.enet_coordinate_descent(\n",
      "/Users/hannah/Library/Python/3.10/lib/python/site-packages/sklearn/linear_model/_coordinate_descent.py:697: ConvergenceWarning: Objective did not converge. You might want to increase the number of iterations, check the scale of the features or consider increasing regularisation. Duality gap: 2.122e+08, tolerance: 5.292e+05\n",
      "  model = cd_fast.enet_coordinate_descent(\n",
      "/Users/hannah/Library/Python/3.10/lib/python/site-packages/sklearn/linear_model/_coordinate_descent.py:697: ConvergenceWarning: Objective did not converge. You might want to increase the number of iterations, check the scale of the features or consider increasing regularisation. Duality gap: 2.209e+08, tolerance: 5.404e+05\n",
      "  model = cd_fast.enet_coordinate_descent(\n",
      "/Users/hannah/Library/Python/3.10/lib/python/site-packages/sklearn/linear_model/_coordinate_descent.py:697: ConvergenceWarning: Objective did not converge. You might want to increase the number of iterations, check the scale of the features or consider increasing regularisation. Duality gap: 2.218e+08, tolerance: 5.444e+05\n",
      "  model = cd_fast.enet_coordinate_descent(\n",
      "/Users/hannah/Library/Python/3.10/lib/python/site-packages/sklearn/linear_model/_coordinate_descent.py:697: ConvergenceWarning: Objective did not converge. You might want to increase the number of iterations, check the scale of the features or consider increasing regularisation. Duality gap: 2.132e+08, tolerance: 5.289e+05\n",
      "  model = cd_fast.enet_coordinate_descent(\n",
      "/Users/hannah/Library/Python/3.10/lib/python/site-packages/sklearn/linear_model/_coordinate_descent.py:697: ConvergenceWarning: Objective did not converge. You might want to increase the number of iterations, check the scale of the features or consider increasing regularisation. Duality gap: 2.275e+08, tolerance: 5.409e+05\n",
      "  model = cd_fast.enet_coordinate_descent(\n",
      "/Users/hannah/Library/Python/3.10/lib/python/site-packages/sklearn/linear_model/_coordinate_descent.py:697: ConvergenceWarning: Objective did not converge. You might want to increase the number of iterations, check the scale of the features or consider increasing regularisation. Duality gap: 2.112e+08, tolerance: 5.292e+05\n",
      "  model = cd_fast.enet_coordinate_descent(\n",
      "/Users/hannah/Library/Python/3.10/lib/python/site-packages/sklearn/linear_model/_coordinate_descent.py:697: ConvergenceWarning: Objective did not converge. You might want to increase the number of iterations, check the scale of the features or consider increasing regularisation. Duality gap: 2.198e+08, tolerance: 5.404e+05\n",
      "  model = cd_fast.enet_coordinate_descent(\n",
      "/Users/hannah/Library/Python/3.10/lib/python/site-packages/sklearn/linear_model/_coordinate_descent.py:697: ConvergenceWarning: Objective did not converge. You might want to increase the number of iterations, check the scale of the features or consider increasing regularisation. Duality gap: 2.455e+08, tolerance: 5.444e+05\n",
      "  model = cd_fast.enet_coordinate_descent(\n",
      "/Users/hannah/Library/Python/3.10/lib/python/site-packages/sklearn/linear_model/_coordinate_descent.py:697: ConvergenceWarning: Objective did not converge. You might want to increase the number of iterations, check the scale of the features or consider increasing regularisation. Duality gap: 2.391e+08, tolerance: 5.289e+05\n",
      "  model = cd_fast.enet_coordinate_descent(\n",
      "/Users/hannah/Library/Python/3.10/lib/python/site-packages/sklearn/linear_model/_coordinate_descent.py:697: ConvergenceWarning: Objective did not converge. You might want to increase the number of iterations, check the scale of the features or consider increasing regularisation. Duality gap: 2.502e+08, tolerance: 5.409e+05\n",
      "  model = cd_fast.enet_coordinate_descent(\n",
      "/Users/hannah/Library/Python/3.10/lib/python/site-packages/sklearn/linear_model/_coordinate_descent.py:697: ConvergenceWarning: Objective did not converge. You might want to increase the number of iterations, check the scale of the features or consider increasing regularisation. Duality gap: 2.324e+08, tolerance: 5.292e+05\n",
      "  model = cd_fast.enet_coordinate_descent(\n",
      "/Users/hannah/Library/Python/3.10/lib/python/site-packages/sklearn/linear_model/_coordinate_descent.py:697: ConvergenceWarning: Objective did not converge. You might want to increase the number of iterations, check the scale of the features or consider increasing regularisation. Duality gap: 2.418e+08, tolerance: 5.404e+05\n",
      "  model = cd_fast.enet_coordinate_descent(\n",
      "/Users/hannah/Library/Python/3.10/lib/python/site-packages/sklearn/linear_model/_coordinate_descent.py:697: ConvergenceWarning: Objective did not converge. You might want to increase the number of iterations, check the scale of the features or consider increasing regularisation. Duality gap: 2.319e+08, tolerance: 5.444e+05\n",
      "  model = cd_fast.enet_coordinate_descent(\n",
      "/Users/hannah/Library/Python/3.10/lib/python/site-packages/sklearn/linear_model/_coordinate_descent.py:697: ConvergenceWarning: Objective did not converge. You might want to increase the number of iterations, check the scale of the features or consider increasing regularisation. Duality gap: 2.244e+08, tolerance: 5.289e+05\n",
      "  model = cd_fast.enet_coordinate_descent(\n",
      "/Users/hannah/Library/Python/3.10/lib/python/site-packages/sklearn/linear_model/_coordinate_descent.py:697: ConvergenceWarning: Objective did not converge. You might want to increase the number of iterations, check the scale of the features or consider increasing regularisation. Duality gap: 2.372e+08, tolerance: 5.409e+05\n",
      "  model = cd_fast.enet_coordinate_descent(\n",
      "/Users/hannah/Library/Python/3.10/lib/python/site-packages/sklearn/linear_model/_coordinate_descent.py:697: ConvergenceWarning: Objective did not converge. You might want to increase the number of iterations, check the scale of the features or consider increasing regularisation. Duality gap: 2.202e+08, tolerance: 5.292e+05\n",
      "  model = cd_fast.enet_coordinate_descent(\n",
      "/Users/hannah/Library/Python/3.10/lib/python/site-packages/sklearn/linear_model/_coordinate_descent.py:697: ConvergenceWarning: Objective did not converge. You might want to increase the number of iterations, check the scale of the features or consider increasing regularisation. Duality gap: 2.292e+08, tolerance: 5.404e+05\n",
      "  model = cd_fast.enet_coordinate_descent(\n",
      "/Users/hannah/Library/Python/3.10/lib/python/site-packages/sklearn/linear_model/_coordinate_descent.py:697: ConvergenceWarning: Objective did not converge. You might want to increase the number of iterations, check the scale of the features or consider increasing regularisation. Duality gap: 2.266e+08, tolerance: 5.444e+05\n",
      "  model = cd_fast.enet_coordinate_descent(\n",
      "/Users/hannah/Library/Python/3.10/lib/python/site-packages/sklearn/linear_model/_coordinate_descent.py:697: ConvergenceWarning: Objective did not converge. You might want to increase the number of iterations, check the scale of the features or consider increasing regularisation. Duality gap: 2.187e+08, tolerance: 5.289e+05\n",
      "  model = cd_fast.enet_coordinate_descent(\n",
      "/Users/hannah/Library/Python/3.10/lib/python/site-packages/sklearn/linear_model/_coordinate_descent.py:697: ConvergenceWarning: Objective did not converge. You might want to increase the number of iterations, check the scale of the features or consider increasing regularisation. Duality gap: 2.321e+08, tolerance: 5.409e+05\n",
      "  model = cd_fast.enet_coordinate_descent(\n",
      "/Users/hannah/Library/Python/3.10/lib/python/site-packages/sklearn/linear_model/_coordinate_descent.py:697: ConvergenceWarning: Objective did not converge. You might want to increase the number of iterations, check the scale of the features or consider increasing regularisation. Duality gap: 2.154e+08, tolerance: 5.292e+05\n",
      "  model = cd_fast.enet_coordinate_descent(\n",
      "/Users/hannah/Library/Python/3.10/lib/python/site-packages/sklearn/linear_model/_coordinate_descent.py:697: ConvergenceWarning: Objective did not converge. You might want to increase the number of iterations, check the scale of the features or consider increasing regularisation. Duality gap: 2.242e+08, tolerance: 5.404e+05\n",
      "  model = cd_fast.enet_coordinate_descent(\n",
      "/Users/hannah/Library/Python/3.10/lib/python/site-packages/sklearn/linear_model/_coordinate_descent.py:697: ConvergenceWarning: Objective did not converge. You might want to increase the number of iterations, check the scale of the features or consider increasing regularisation. Duality gap: 2.209e+08, tolerance: 5.444e+05\n",
      "  model = cd_fast.enet_coordinate_descent(\n",
      "/Users/hannah/Library/Python/3.10/lib/python/site-packages/sklearn/linear_model/_coordinate_descent.py:697: ConvergenceWarning: Objective did not converge. You might want to increase the number of iterations, check the scale of the features or consider increasing regularisation. Duality gap: 2.125e+08, tolerance: 5.289e+05\n",
      "  model = cd_fast.enet_coordinate_descent(\n",
      "/Users/hannah/Library/Python/3.10/lib/python/site-packages/sklearn/linear_model/_coordinate_descent.py:697: ConvergenceWarning: Objective did not converge. You might want to increase the number of iterations, check the scale of the features or consider increasing regularisation. Duality gap: 2.265e+08, tolerance: 5.409e+05\n",
      "  model = cd_fast.enet_coordinate_descent(\n",
      "/Users/hannah/Library/Python/3.10/lib/python/site-packages/sklearn/linear_model/_coordinate_descent.py:697: ConvergenceWarning: Objective did not converge. You might want to increase the number of iterations, check the scale of the features or consider increasing regularisation. Duality gap: 2.103e+08, tolerance: 5.292e+05\n",
      "  model = cd_fast.enet_coordinate_descent(\n",
      "/Users/hannah/Library/Python/3.10/lib/python/site-packages/sklearn/linear_model/_coordinate_descent.py:697: ConvergenceWarning: Objective did not converge. You might want to increase the number of iterations, check the scale of the features or consider increasing regularisation. Duality gap: 2.189e+08, tolerance: 5.404e+05\n",
      "  model = cd_fast.enet_coordinate_descent(\n",
      "/Users/hannah/Library/Python/3.10/lib/python/site-packages/sklearn/linear_model/_coordinate_descent.py:697: ConvergenceWarning: Objective did not converge. You might want to increase the number of iterations, check the scale of the features or consider increasing regularisation. Duality gap: 2.581e+08, tolerance: 5.444e+05\n",
      "  model = cd_fast.enet_coordinate_descent(\n",
      "/Users/hannah/Library/Python/3.10/lib/python/site-packages/sklearn/linear_model/_coordinate_descent.py:697: ConvergenceWarning: Objective did not converge. You might want to increase the number of iterations, check the scale of the features or consider increasing regularisation. Duality gap: 2.530e+08, tolerance: 5.289e+05\n",
      "  model = cd_fast.enet_coordinate_descent(\n",
      "/Users/hannah/Library/Python/3.10/lib/python/site-packages/sklearn/linear_model/_coordinate_descent.py:697: ConvergenceWarning: Objective did not converge. You might want to increase the number of iterations, check the scale of the features or consider increasing regularisation. Duality gap: 2.618e+08, tolerance: 5.409e+05\n",
      "  model = cd_fast.enet_coordinate_descent(\n",
      "/Users/hannah/Library/Python/3.10/lib/python/site-packages/sklearn/linear_model/_coordinate_descent.py:697: ConvergenceWarning: Objective did not converge. You might want to increase the number of iterations, check the scale of the features or consider increasing regularisation. Duality gap: 2.430e+08, tolerance: 5.292e+05\n",
      "  model = cd_fast.enet_coordinate_descent(\n",
      "/Users/hannah/Library/Python/3.10/lib/python/site-packages/sklearn/linear_model/_coordinate_descent.py:697: ConvergenceWarning: Objective did not converge. You might want to increase the number of iterations, check the scale of the features or consider increasing regularisation. Duality gap: 2.529e+08, tolerance: 5.404e+05\n",
      "  model = cd_fast.enet_coordinate_descent(\n",
      "/Users/hannah/Library/Python/3.10/lib/python/site-packages/sklearn/linear_model/_coordinate_descent.py:697: ConvergenceWarning: Objective did not converge. You might want to increase the number of iterations, check the scale of the features or consider increasing regularisation. Duality gap: 2.393e+08, tolerance: 5.444e+05\n",
      "  model = cd_fast.enet_coordinate_descent(\n",
      "/Users/hannah/Library/Python/3.10/lib/python/site-packages/sklearn/linear_model/_coordinate_descent.py:697: ConvergenceWarning: Objective did not converge. You might want to increase the number of iterations, check the scale of the features or consider increasing regularisation. Duality gap: 2.328e+08, tolerance: 5.289e+05\n",
      "  model = cd_fast.enet_coordinate_descent(\n",
      "/Users/hannah/Library/Python/3.10/lib/python/site-packages/sklearn/linear_model/_coordinate_descent.py:697: ConvergenceWarning: Objective did not converge. You might want to increase the number of iterations, check the scale of the features or consider increasing regularisation. Duality gap: 2.441e+08, tolerance: 5.409e+05\n",
      "  model = cd_fast.enet_coordinate_descent(\n",
      "/Users/hannah/Library/Python/3.10/lib/python/site-packages/sklearn/linear_model/_coordinate_descent.py:697: ConvergenceWarning: Objective did not converge. You might want to increase the number of iterations, check the scale of the features or consider increasing regularisation. Duality gap: 2.267e+08, tolerance: 5.292e+05\n",
      "  model = cd_fast.enet_coordinate_descent(\n",
      "/Users/hannah/Library/Python/3.10/lib/python/site-packages/sklearn/linear_model/_coordinate_descent.py:697: ConvergenceWarning: Objective did not converge. You might want to increase the number of iterations, check the scale of the features or consider increasing regularisation. Duality gap: 2.359e+08, tolerance: 5.404e+05\n",
      "  model = cd_fast.enet_coordinate_descent(\n",
      "/Users/hannah/Library/Python/3.10/lib/python/site-packages/sklearn/linear_model/_coordinate_descent.py:697: ConvergenceWarning: Objective did not converge. You might want to increase the number of iterations, check the scale of the features or consider increasing regularisation. Duality gap: 2.304e+08, tolerance: 5.444e+05\n",
      "  model = cd_fast.enet_coordinate_descent(\n",
      "/Users/hannah/Library/Python/3.10/lib/python/site-packages/sklearn/linear_model/_coordinate_descent.py:697: ConvergenceWarning: Objective did not converge. You might want to increase the number of iterations, check the scale of the features or consider increasing regularisation. Duality gap: 2.231e+08, tolerance: 5.289e+05\n",
      "  model = cd_fast.enet_coordinate_descent(\n",
      "/Users/hannah/Library/Python/3.10/lib/python/site-packages/sklearn/linear_model/_coordinate_descent.py:697: ConvergenceWarning: Objective did not converge. You might want to increase the number of iterations, check the scale of the features or consider increasing regularisation. Duality gap: 2.356e+08, tolerance: 5.409e+05\n",
      "  model = cd_fast.enet_coordinate_descent(\n",
      "/Users/hannah/Library/Python/3.10/lib/python/site-packages/sklearn/linear_model/_coordinate_descent.py:697: ConvergenceWarning: Objective did not converge. You might want to increase the number of iterations, check the scale of the features or consider increasing regularisation. Duality gap: 2.187e+08, tolerance: 5.292e+05\n",
      "  model = cd_fast.enet_coordinate_descent(\n",
      "/Users/hannah/Library/Python/3.10/lib/python/site-packages/sklearn/linear_model/_coordinate_descent.py:697: ConvergenceWarning: Objective did not converge. You might want to increase the number of iterations, check the scale of the features or consider increasing regularisation. Duality gap: 2.277e+08, tolerance: 5.404e+05\n",
      "  model = cd_fast.enet_coordinate_descent(\n",
      "/Users/hannah/Library/Python/3.10/lib/python/site-packages/sklearn/linear_model/_coordinate_descent.py:697: ConvergenceWarning: Objective did not converge. You might want to increase the number of iterations, check the scale of the features or consider increasing regularisation. Duality gap: 2.198e+08, tolerance: 5.444e+05\n",
      "  model = cd_fast.enet_coordinate_descent(\n",
      "/Users/hannah/Library/Python/3.10/lib/python/site-packages/sklearn/linear_model/_coordinate_descent.py:697: ConvergenceWarning: Objective did not converge. You might want to increase the number of iterations, check the scale of the features or consider increasing regularisation. Duality gap: 2.115e+08, tolerance: 5.289e+05\n",
      "  model = cd_fast.enet_coordinate_descent(\n",
      "/Users/hannah/Library/Python/3.10/lib/python/site-packages/sklearn/linear_model/_coordinate_descent.py:697: ConvergenceWarning: Objective did not converge. You might want to increase the number of iterations, check the scale of the features or consider increasing regularisation. Duality gap: 2.254e+08, tolerance: 5.409e+05\n",
      "  model = cd_fast.enet_coordinate_descent(\n",
      "/Users/hannah/Library/Python/3.10/lib/python/site-packages/sklearn/linear_model/_coordinate_descent.py:697: ConvergenceWarning: Objective did not converge. You might want to increase the number of iterations, check the scale of the features or consider increasing regularisation. Duality gap: 2.092e+08, tolerance: 5.292e+05\n",
      "  model = cd_fast.enet_coordinate_descent(\n"
     ]
    },
    {
     "name": "stdout",
     "output_type": "stream",
     "text": [
      "Best alpha: 0.0001\n",
      "Best l1_ratio: 1\n"
     ]
    },
    {
     "name": "stderr",
     "output_type": "stream",
     "text": [
      "/Users/hannah/Library/Python/3.10/lib/python/site-packages/sklearn/linear_model/_coordinate_descent.py:697: ConvergenceWarning: Objective did not converge. You might want to increase the number of iterations, check the scale of the features or consider increasing regularisation. Duality gap: 2.178e+08, tolerance: 5.404e+05\n",
      "  model = cd_fast.enet_coordinate_descent(\n",
      "/Users/hannah/Library/Python/3.10/lib/python/site-packages/sklearn/linear_model/_coordinate_descent.py:697: ConvergenceWarning: Objective did not converge. You might want to increase the number of iterations, check the scale of the features or consider increasing regularisation. Duality gap: 2.740e+08, tolerance: 6.711e+05\n",
      "  model = cd_fast.enet_coordinate_descent(\n"
     ]
    }
   ],
   "source": [
    "# hyperparameter tuning for elastic net\n",
    "param_grid = {'alpha': [0.0001, 0.0005, 0.001, 0.005, 0.01, ],'l1_ratio': [0.95, 0.98, 0.99,1]}\n",
    "\n",
    "grid_search = GridSearchCV(ElasticNet(), param_grid, cv=5, scoring='neg_mean_squared_error')\n",
    "\n",
    "grid_search.fit(X_train, y_train)\n",
    "\n",
    "print(f\"Best alpha: {grid_search.best_params_['alpha']}\")\n",
    "print(f\"Best l1_ratio: {grid_search.best_params_['l1_ratio']}\")"
   ]
  }
 ],
 "metadata": {
  "kernelspec": {
   "display_name": "Python 3",
   "language": "python",
   "name": "python3"
  },
  "language_info": {
   "codemirror_mode": {
    "name": "ipython",
    "version": 3
   },
   "file_extension": ".py",
   "mimetype": "text/x-python",
   "name": "python",
   "nbconvert_exporter": "python",
   "pygments_lexer": "ipython3",
   "version": "3.10.7"
  }
 },
 "nbformat": 4,
 "nbformat_minor": 2
}
