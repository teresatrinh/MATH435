{
 "cells": [
  {
   "cell_type": "code",
   "execution_count": 1,
   "id": "bd3d5a02",
   "metadata": {},
   "outputs": [],
   "source": [
    "import pandas as pd\n",
    "import numpy as np\n",
    "import statsmodels.api as sm\n",
    "import datetime\n",
    "import matplotlib.pyplot as plt\n",
    "from statsmodels.tsa.api import VAR\n",
    "from statsmodels.tsa.stattools import adfuller\n",
    "from sklearn.metrics import mean_squared_error, r2_score\n"
   ]
  },
  {
   "cell_type": "code",
   "execution_count": 2,
   "id": "570a1746",
   "metadata": {},
   "outputs": [],
   "source": [
    "dataFull = pd.read_csv(\"data/NE_LINCOLN_2008_2024.csv\")\n",
    "dataNoNa = pd.read_csv(\"data/NE_LINCOLN_NO_NA.csv\")"
   ]
  },
  {
   "cell_type": "code",
   "execution_count": 3,
   "id": "6b35afda",
   "metadata": {},
   "outputs": [],
   "source": [
    "# dropping columns not used for VAR\n",
    "dataFull.drop(columns = [\"Unnamed: 0\", \"id\", \"location\", \"doseEquivalent\", \"status\", \"gammaSum\"], axis = 1, inplace = True)\n",
    "dataNoNa.drop(columns = [\"Unnamed: 0\", \"id\", \"location\", \"doseEquivalent\", \"status\", \"gammaSum\"], axis = 1, inplace = True)"
   ]
  },
  {
   "cell_type": "code",
   "execution_count": 4,
   "id": "31d5c3cb",
   "metadata": {},
   "outputs": [],
   "source": [
    "# augmented dickey-fuller test to make sure data is stationary using \n",
    "# https://www.analyticsvidhya.com/blog/2021/08/vector-autoregressive-model-in-python/\n",
    "def adfTest(series, title = \"\"):\n",
    "    print(f'Augmented Dickey-Fuller Test: {title}')\n",
    "    results = adfuller(series.dropna(), autolag = \"AIC\")\n",
    "    labels = ['ADF test statistic', 'p-value', '# lags used', '# observations']\n",
    "    out = pd.Series(results[0:4], index = labels)\n",
    "    for key, val in results[4].items():\n",
    "        out[f'critical value({key})']=val\n",
    "    print(out.to_string())\n",
    "    if results[1] <= 0.05:\n",
    "        #print(\"Strong evidence against the null hypothesis\")\n",
    "        #print(\"Reject the null hypothesis\")\n",
    "        print(\"Data has no unit root and is stationary\")\n",
    "    else:\n",
    "        #print(\"Weak evidence against the null hypothesis\")\n",
    "        #print(\"Fail to reject the null hypothesis\")\n",
    "        print(\"Data has a unit root and is non-stationary\")"
   ]
  },
  {
   "cell_type": "code",
   "execution_count": 5,
   "id": "e12ed510",
   "metadata": {},
   "outputs": [
    {
     "name": "stdout",
     "output_type": "stream",
     "text": [
      "Augmented Dickey-Fuller Test: 2\n",
      "ADF test statistic    -7.740945e+00\n",
      "p-value                1.062356e-11\n",
      "# lags used            6.900000e+01\n",
      "# observations         1.220110e+05\n",
      "critical value(1%)    -3.430404e+00\n",
      "critical value(5%)    -2.861564e+00\n",
      "critical value(10%)   -2.566783e+00\n",
      "Data has no unit root and is stationary\n",
      "Augmented Dickey-Fuller Test: 3\n",
      "ADF test statistic    -1.444869e+01\n",
      "p-value                7.158214e-27\n",
      "# lags used            7.100000e+01\n",
      "# observations         1.219930e+05\n",
      "critical value(1%)    -3.430404e+00\n",
      "critical value(5%)    -2.861564e+00\n",
      "critical value(10%)   -2.566783e+00\n",
      "Data has no unit root and is stationary\n",
      "Augmented Dickey-Fuller Test: 4\n",
      "ADF test statistic    -1.699695e+01\n",
      "p-value                8.785375e-30\n",
      "# lags used            7.100000e+01\n",
      "# observations         1.219910e+05\n",
      "critical value(1%)    -3.430404e+00\n",
      "critical value(5%)    -2.861564e+00\n",
      "critical value(10%)   -2.566783e+00\n",
      "Data has no unit root and is stationary\n",
      "Augmented Dickey-Fuller Test: 5\n",
      "ADF test statistic        -22.631504\n",
      "p-value                     0.000000\n",
      "# lags used                71.000000\n",
      "# observations         121989.000000\n",
      "critical value(1%)         -3.430404\n",
      "critical value(5%)         -2.861564\n",
      "critical value(10%)        -2.566783\n",
      "Data has no unit root and is stationary\n",
      "Augmented Dickey-Fuller Test: 6\n",
      "ADF test statistic    -1.165956e+01\n",
      "p-value                1.948150e-21\n",
      "# lags used            7.100000e+01\n",
      "# observations         1.220010e+05\n",
      "critical value(1%)    -3.430404e+00\n",
      "critical value(5%)    -2.861564e+00\n",
      "critical value(10%)   -2.566783e+00\n",
      "Data has no unit root and is stationary\n",
      "Augmented Dickey-Fuller Test: 7\n",
      "ADF test statistic        -20.326069\n",
      "p-value                     0.000000\n",
      "# lags used                71.000000\n",
      "# observations         121989.000000\n",
      "critical value(1%)         -3.430404\n",
      "critical value(5%)         -2.861564\n",
      "critical value(10%)        -2.566783\n",
      "Data has no unit root and is stationary\n",
      "Augmented Dickey-Fuller Test: 8\n",
      "ADF test statistic    -1.435662e+01\n",
      "p-value                1.000883e-26\n",
      "# lags used            7.100000e+01\n",
      "# observations         1.220030e+05\n",
      "critical value(1%)    -3.430404e+00\n",
      "critical value(5%)    -2.861564e+00\n",
      "critical value(10%)   -2.566783e+00\n",
      "Data has no unit root and is stationary\n",
      "Augmented Dickey-Fuller Test: 9\n",
      "ADF test statistic    -1.724536e+01\n",
      "p-value                6.070603e-30\n",
      "# lags used            7.100000e+01\n",
      "# observations         1.220090e+05\n",
      "critical value(1%)    -3.430404e+00\n",
      "critical value(5%)    -2.861564e+00\n",
      "critical value(10%)   -2.566783e+00\n",
      "Data has no unit root and is stationary\n"
     ]
    }
   ],
   "source": [
    "# testing if the data is stationary\n",
    "# since dataNoNa is subset of dataFull, only dataFull is tested\n",
    "# do not run, it takes about 5 minutes...\n",
    "for i in range(2, 10):\n",
    "    adfTest(dataFull['gamma' + str(i)], i)"
   ]
  },
  {
   "cell_type": "code",
   "execution_count": 5,
   "id": "40e16df2",
   "metadata": {},
   "outputs": [],
   "source": [
    "# simple data conversions to usable types\n",
    "dataFull.dropna(inplace = True)\n",
    "dataFull[\"time\"] = pd.DatetimeIndex(pd.to_datetime(dataFull[\"time\"]))\n",
    "entries2024 = int(sum(dataFull[dataFull['time'].dt.year == 2024].count()) / 9)\n",
    "dataFull['time'] = pd.to_numeric(dataFull['time'])\n",
    "for i in range(2, 10):\n",
    "    dataFull[\"gamma\" + str(i)] = dataFull['gamma' + str(i)].astype(float)"
   ]
  },
  {
   "cell_type": "code",
   "execution_count": 8,
   "id": "cd599b60",
   "metadata": {},
   "outputs": [],
   "source": [
    "# counting number of records from 2024 to make the test group\n",
    "train = dataFull[:-entries2024]\n",
    "test = dataFull[-entries2024:]\n"
   ]
  },
  {
   "cell_type": "code",
   "execution_count": 9,
   "id": "9bdd0418",
   "metadata": {},
   "outputs": [],
   "source": [
    "train = np.asarray(train)\n",
    "test = np.asarray(test)\n",
    "for i in range(1, 9):\n",
    "    train[:, i] = train[:, i].astype(np.float64)\n",
    "    test[:, i] = test[:, i].astype(np.float64)"
   ]
  },
  {
   "cell_type": "code",
   "execution_count": 9,
   "id": "46cd4d76",
   "metadata": {},
   "outputs": [
    {
     "name": "stdout",
     "output_type": "stream",
     "text": [
      "Order: 1\n",
      "AIC: 112.94643677430228\n",
      "BIC: 112.95400137091302\n",
      "Order: 2\n",
      "AIC: 112.9464380644538\n",
      "BIC: 112.9608109102164\n",
      "Order: 3\n",
      "AIC: 112.9473472795681\n",
      "BIC: 112.96852848078207\n",
      "Order: 4\n",
      "AIC: 112.94824271064698\n",
      "BIC: 112.97623237361447\n",
      "Order: 5\n",
      "AIC: 112.94914025082791\n",
      "BIC: 112.98393848185366\n",
      "Order: 6\n",
      "AIC: 112.94996272526201\n",
      "BIC: 112.99156963065343\n",
      "Order: 7\n",
      "AIC: 112.95079419924801\n",
      "BIC: 112.99920988531508\n",
      "Order: 8\n",
      "AIC: 112.95168861479448\n",
      "BIC: 113.0069131878498\n",
      "Order: 9\n",
      "AIC: 112.95254259729887\n",
      "BIC: 113.01457616365768\n",
      "Order: 10\n",
      "AIC: 112.95348810083856\n",
      "BIC: 113.0223307668187\n"
     ]
    }
   ],
   "source": [
    "for i in range(1, 11):\n",
    "    model = VAR(np.asarray(train))\n",
    "    results = model.fit(i)\n",
    "    print(\"Order: \" + str(i))\n",
    "    print(\"AIC: \" + str(results.aic))\n",
    "    print(\"BIC: \" + str(results.bic))"
   ]
  },
  {
   "cell_type": "code",
   "execution_count": 10,
   "id": "d8a7fc78",
   "metadata": {},
   "outputs": [],
   "source": [
    "model = VAR(np.asarray(train))\n",
    "results = model.fit(1)"
   ]
  },
  {
   "cell_type": "code",
   "execution_count": 11,
   "id": "7c58253a",
   "metadata": {},
   "outputs": [
    {
     "data": {
      "text/plain": [
       "array([[1.73569192e+18, 2.70201358e+03, 1.56517724e+03, 4.49723498e+02,\n",
       "        2.56703149e+02, 1.55527957e+02, 1.95088411e+02, 1.11719194e+02,\n",
       "        3.64116613e+01],\n",
       "       [1.73569706e+18, 2.70202159e+03, 1.56518187e+03, 4.49724830e+02,\n",
       "        2.56703910e+02, 1.55528418e+02, 1.95088989e+02, 1.11719524e+02,\n",
       "        3.64117692e+01],\n",
       "       [1.73570220e+18, 2.70202959e+03, 1.56518651e+03, 4.49726162e+02,\n",
       "        2.56704670e+02, 1.55528879e+02, 1.95089567e+02, 1.11719855e+02,\n",
       "        3.64118770e+01],\n",
       "       [1.73570735e+18, 2.70203760e+03, 1.56519115e+03, 4.49727494e+02,\n",
       "        2.56705430e+02, 1.55529339e+02, 1.95090145e+02, 1.11720186e+02,\n",
       "        3.64119849e+01],\n",
       "       [1.73571249e+18, 2.70204560e+03, 1.56519578e+03, 4.49728826e+02,\n",
       "        2.56706191e+02, 1.55529800e+02, 1.95090723e+02, 1.11720517e+02,\n",
       "        3.64120927e+01]])"
      ]
     },
     "execution_count": 11,
     "metadata": {},
     "output_type": "execute_result"
    }
   ],
   "source": [
    "pred = results.forecast(np.asarray(test), steps = entries2024)\n",
    "pred[0:5,]"
   ]
  },
  {
   "cell_type": "code",
   "execution_count": 14,
   "id": "d169e5f1",
   "metadata": {},
   "outputs": [
    {
     "name": "stdout",
     "output_type": "stream",
     "text": [
      "MSE: 1.314163274671803e+32\n",
      "R2: -4.446750062499164\n"
     ]
    }
   ],
   "source": [
    "var_mse = mean_squared_error(test, pred)\n",
    "var_r2 = r2_score(test, pred)\n",
    "\n",
    "print(f'MSE: {var_mse}')\n",
    "print(f'R2: {var_r2}')"
   ]
  },
  {
   "cell_type": "code",
   "execution_count": null,
   "id": "15e0c43c",
   "metadata": {},
   "outputs": [],
   "source": []
  }
 ],
 "metadata": {
  "kernelspec": {
   "display_name": "Python 3",
   "language": "python",
   "name": "python3"
  },
  "language_info": {
   "codemirror_mode": {
    "name": "ipython",
    "version": 3
   },
   "file_extension": ".py",
   "mimetype": "text/x-python",
   "name": "python",
   "nbconvert_exporter": "python",
   "pygments_lexer": "ipython3",
   "version": "3.10.7"
  }
 },
 "nbformat": 4,
 "nbformat_minor": 5
}
