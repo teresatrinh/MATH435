{
 "cells": [
  {
   "cell_type": "code",
   "execution_count": 1,
   "id": "bd3d5a02",
   "metadata": {},
   "outputs": [],
   "source": [
    "import pandas as pd\n",
    "import numpy as np\n",
    "import statsmodels.api as sm\n",
    "from statsmodels.tsa.api import VAR\n",
    "from statsmodels.tsa.stattools import adfuller\n",
    "import datetime"
   ]
  },
  {
   "cell_type": "code",
   "execution_count": 2,
   "id": "570a1746",
   "metadata": {},
   "outputs": [],
   "source": [
    "dataFull = pd.read_csv(\"data/NE_LINCOLN_2008_2024.csv\")\n",
    "dataNoNa = pd.read_csv(\"data/NE_LINCOLN_NO_NA.csv\")"
   ]
  },
  {
   "cell_type": "code",
   "execution_count": 3,
   "id": "6b35afda",
   "metadata": {},
   "outputs": [],
   "source": [
    "# dropping columns not used for VAR\n",
    "dataFull.drop(columns = [\"Unnamed: 0\", \"id\", \"location\", \"doseEquivalent\", \"status\", \"gammaSum\"], axis = 1, inplace = True)\n",
    "dataNoNa.drop(columns = [\"Unnamed: 0\", \"id\", \"location\", \"doseEquivalent\", \"status\", \"gammaSum\"], axis = 1, inplace = True)"
   ]
  },
  {
   "cell_type": "code",
   "execution_count": 4,
   "id": "31d5c3cb",
   "metadata": {},
   "outputs": [],
   "source": [
    "# augmented dickey-fuller test to make sure data is stationary using \n",
    "# https://www.analyticsvidhya.com/blog/2021/08/vector-autoregressive-model-in-python/\n",
    "def adfTest(series, title = \"\"):\n",
    "    print(f'Augmented Dickey-Fuller Test: {title}')\n",
    "    results = adfuller(series.dropna(), autolag = \"AIC\")\n",
    "    labels = ['ADF test statistic', 'p-value', '# lags used', '# observations']\n",
    "    out = pd.Series(results[0:4], index = labels)\n",
    "    for key, val in results[4].items():\n",
    "        out[f'critical value({key})']=val\n",
    "    print(out.to_string())\n",
    "    if results[1] <= 0.05:\n",
    "        #print(\"Strong evidence against the null hypothesis\")\n",
    "        #print(\"Reject the null hypothesis\")\n",
    "        print(\"Data has no unit root and is stationary\")\n",
    "    else:\n",
    "        #print(\"Weak evidence against the null hypothesis\")\n",
    "        #print(\"Fail to reject the null hypothesis\")\n",
    "        print(\"Data has a unit root and is non-stationary\")"
   ]
  },
  {
   "cell_type": "code",
   "execution_count": 24,
   "id": "e12ed510",
   "metadata": {},
   "outputs": [
    {
     "name": "stdout",
     "output_type": "stream",
     "text": [
      "Augmented Dickey-Fuller Test: 2\n",
      "ADF test statistic    -7.740945e+00\n",
      "p-value                1.062356e-11\n",
      "# lags used            6.900000e+01\n",
      "# observations         1.220110e+05\n",
      "critical value(1%)    -3.430404e+00\n",
      "critical value(5%)    -2.861564e+00\n",
      "critical value(10%)   -2.566783e+00\n",
      "Data has no unit root and is stationary\n",
      "Augmented Dickey-Fuller Test: 3\n",
      "ADF test statistic    -1.444869e+01\n",
      "p-value                7.158214e-27\n",
      "# lags used            7.100000e+01\n",
      "# observations         1.219930e+05\n",
      "critical value(1%)    -3.430404e+00\n",
      "critical value(5%)    -2.861564e+00\n",
      "critical value(10%)   -2.566783e+00\n",
      "Data has no unit root and is stationary\n",
      "Augmented Dickey-Fuller Test: 4\n",
      "ADF test statistic    -1.699695e+01\n",
      "p-value                8.785375e-30\n",
      "# lags used            7.100000e+01\n",
      "# observations         1.219910e+05\n",
      "critical value(1%)    -3.430404e+00\n",
      "critical value(5%)    -2.861564e+00\n",
      "critical value(10%)   -2.566783e+00\n",
      "Data has no unit root and is stationary\n",
      "Augmented Dickey-Fuller Test: 5\n",
      "ADF test statistic        -22.631504\n",
      "p-value                     0.000000\n",
      "# lags used                71.000000\n",
      "# observations         121989.000000\n",
      "critical value(1%)         -3.430404\n",
      "critical value(5%)         -2.861564\n",
      "critical value(10%)        -2.566783\n",
      "Data has no unit root and is stationary\n",
      "Augmented Dickey-Fuller Test: 6\n",
      "ADF test statistic    -1.165956e+01\n",
      "p-value                1.948150e-21\n",
      "# lags used            7.100000e+01\n",
      "# observations         1.220010e+05\n",
      "critical value(1%)    -3.430404e+00\n",
      "critical value(5%)    -2.861564e+00\n",
      "critical value(10%)   -2.566783e+00\n",
      "Data has no unit root and is stationary\n",
      "Augmented Dickey-Fuller Test: 7\n",
      "ADF test statistic        -20.326069\n",
      "p-value                     0.000000\n",
      "# lags used                71.000000\n",
      "# observations         121989.000000\n",
      "critical value(1%)         -3.430404\n",
      "critical value(5%)         -2.861564\n",
      "critical value(10%)        -2.566783\n",
      "Data has no unit root and is stationary\n",
      "Augmented Dickey-Fuller Test: 8\n",
      "ADF test statistic    -1.435662e+01\n",
      "p-value                1.000883e-26\n",
      "# lags used            7.100000e+01\n",
      "# observations         1.220030e+05\n",
      "critical value(1%)    -3.430404e+00\n",
      "critical value(5%)    -2.861564e+00\n",
      "critical value(10%)   -2.566783e+00\n",
      "Data has no unit root and is stationary\n",
      "Augmented Dickey-Fuller Test: 9\n",
      "ADF test statistic    -1.724536e+01\n",
      "p-value                6.070603e-30\n",
      "# lags used            7.100000e+01\n",
      "# observations         1.220090e+05\n",
      "critical value(1%)    -3.430404e+00\n",
      "critical value(5%)    -2.861564e+00\n",
      "critical value(10%)   -2.566783e+00\n",
      "Data has no unit root and is stationary\n"
     ]
    }
   ],
   "source": [
    "# testing if the data is stationary\n",
    "# since dataNoNa is subset of dataFull, only dataFull is tested\n",
    "for i in range(2, 10):\n",
    "    adfTest(dataFull['gamma' + str(i)], i)"
   ]
  },
  {
   "cell_type": "code",
   "execution_count": 5,
   "id": "40e16df2",
   "metadata": {},
   "outputs": [],
   "source": [
    "# simple data conversions to usable types\n",
    "dataFull.dropna(inplace = True)\n",
    "dataFull[\"time\"] = pd.to_datetime(dataFull[\"time\"])\n",
    "for i in range(2, 10):\n",
    "    dataFull[\"gamma\" + str(i)] = dataFull['gamma' + str(i)].astype(float)"
   ]
  },
  {
   "cell_type": "code",
   "execution_count": 33,
   "id": "cd599b60",
   "metadata": {},
   "outputs": [],
   "source": [
    "# counting number of records from 2024 to make the test group\n",
    "entries2024 = int(sum(dataFull[dataFull['time'].dt.year == 2024].count()) / 9)\n",
    "\n",
    "train = dataFull[:-entries2024]\n",
    "test = dataFull[-entries2024:]\n"
   ]
  },
  {
   "cell_type": "code",
   "execution_count": 34,
   "id": "9bdd0418",
   "metadata": {},
   "outputs": [],
   "source": [
    "train = np.asarray(train)\n",
    "for i in range(1, 9):\n",
    "    train[:, i] = train[:, i].astype(np.float64)"
   ]
  },
  {
   "cell_type": "code",
   "execution_count": 35,
   "id": "5ee05b9a",
   "metadata": {},
   "outputs": [
    {
     "data": {
      "text/plain": [
       "array([[Timestamp('2008-05-21 17:41:00'), 2967.0, 394.0, 160.0, 186.0,\n",
       "        231.0, 176.0, 15.0, 20.0],\n",
       "       [Timestamp('2008-05-21 19:09:00'), 2826.0, 382.0, 158.0, 185.0,\n",
       "        233.0, 173.0, 14.0, 21.0],\n",
       "       [Timestamp('2008-05-21 19:42:00'), 2770.0, 376.0, 159.0, 181.0,\n",
       "        229.0, 176.0, 14.0, 21.0],\n",
       "       [Timestamp('2008-05-21 20:57:00'), 2737.0, 371.0, 159.0, 185.0,\n",
       "        229.0, 173.0, 15.0, 21.0],\n",
       "       [Timestamp('2008-05-21 21:57:00'), 2727.0, 372.0, 158.0, 183.0,\n",
       "        232.0, 172.0, 15.0, 21.0]], dtype=object)"
      ]
     },
     "execution_count": 35,
     "metadata": {},
     "output_type": "execute_result"
    }
   ],
   "source": [
    "train[0:5, ]"
   ]
  },
  {
   "cell_type": "code",
   "execution_count": 36,
   "id": "46cd4d76",
   "metadata": {},
   "outputs": [
    {
     "ename": "TypeError",
     "evalue": "loop of ufunc does not support argument 0 of type float which has no callable sqrt method",
     "output_type": "error",
     "traceback": [
      "\u001b[0;31m---------------------------------------------------------------------------\u001b[0m",
      "\u001b[0;31mAttributeError\u001b[0m                            Traceback (most recent call last)",
      "\u001b[0;31mAttributeError\u001b[0m: 'float' object has no attribute 'sqrt'",
      "\nThe above exception was the direct cause of the following exception:\n",
      "\u001b[0;31mTypeError\u001b[0m                                 Traceback (most recent call last)",
      "Cell \u001b[0;32mIn[36], line 3\u001b[0m\n\u001b[1;32m      1\u001b[0m \u001b[38;5;28;01mfor\u001b[39;00m i \u001b[38;5;129;01min\u001b[39;00m \u001b[38;5;28mrange\u001b[39m(\u001b[38;5;241m1\u001b[39m, \u001b[38;5;241m11\u001b[39m):\n\u001b[1;32m      2\u001b[0m     model \u001b[38;5;241m=\u001b[39m VAR(np\u001b[38;5;241m.\u001b[39masarray(train))\n\u001b[0;32m----> 3\u001b[0m     results \u001b[38;5;241m=\u001b[39m \u001b[43mmodel\u001b[49m\u001b[38;5;241;43m.\u001b[39;49m\u001b[43mfit\u001b[49m\u001b[43m(\u001b[49m\u001b[43mi\u001b[49m\u001b[43m)\u001b[49m\n\u001b[1;32m      4\u001b[0m     \u001b[38;5;28mprint\u001b[39m(\u001b[38;5;124m\"\u001b[39m\u001b[38;5;124mOrder: \u001b[39m\u001b[38;5;124m\"\u001b[39m \u001b[38;5;241m+\u001b[39m i)\n\u001b[1;32m      5\u001b[0m     \u001b[38;5;28mprint\u001b[39m(\u001b[38;5;124m\"\u001b[39m\u001b[38;5;124mAIC: \u001b[39m\u001b[38;5;124m\"\u001b[39m \u001b[38;5;241m+\u001b[39m results\u001b[38;5;241m.\u001b[39maic)\n",
      "File \u001b[0;32m/Library/Frameworks/Python.framework/Versions/3.10/lib/python3.10/site-packages/statsmodels/tsa/vector_ar/var_model.py:694\u001b[0m, in \u001b[0;36mVAR.fit\u001b[0;34m(self, maxlags, method, ic, trend, verbose)\u001b[0m\n\u001b[1;32m    686\u001b[0m     \u001b[38;5;28mself\u001b[39m\u001b[38;5;241m.\u001b[39mdata\u001b[38;5;241m.\u001b[39mxnames \u001b[38;5;241m=\u001b[39m (\n\u001b[1;32m    687\u001b[0m         \u001b[38;5;28mself\u001b[39m\u001b[38;5;241m.\u001b[39mdata\u001b[38;5;241m.\u001b[39mxnames[:k_trend]\n\u001b[1;32m    688\u001b[0m         \u001b[38;5;241m+\u001b[39m x_names_to_add\n\u001b[1;32m    689\u001b[0m         \u001b[38;5;241m+\u001b[39m \u001b[38;5;28mself\u001b[39m\u001b[38;5;241m.\u001b[39mdata\u001b[38;5;241m.\u001b[39mxnames[k_trend:]\n\u001b[1;32m    690\u001b[0m     )\n\u001b[1;32m    691\u001b[0m \u001b[38;5;28mself\u001b[39m\u001b[38;5;241m.\u001b[39mdata\u001b[38;5;241m.\u001b[39mcov_names \u001b[38;5;241m=\u001b[39m pd\u001b[38;5;241m.\u001b[39mMultiIndex\u001b[38;5;241m.\u001b[39mfrom_product(\n\u001b[1;32m    692\u001b[0m     (\u001b[38;5;28mself\u001b[39m\u001b[38;5;241m.\u001b[39mdata\u001b[38;5;241m.\u001b[39mxnames, \u001b[38;5;28mself\u001b[39m\u001b[38;5;241m.\u001b[39mdata\u001b[38;5;241m.\u001b[39mynames)\n\u001b[1;32m    693\u001b[0m )\n\u001b[0;32m--> 694\u001b[0m \u001b[38;5;28;01mreturn\u001b[39;00m \u001b[38;5;28;43mself\u001b[39;49m\u001b[38;5;241;43m.\u001b[39;49m\u001b[43m_estimate_var\u001b[49m\u001b[43m(\u001b[49m\u001b[43mlags\u001b[49m\u001b[43m,\u001b[49m\u001b[43m \u001b[49m\u001b[43mtrend\u001b[49m\u001b[38;5;241;43m=\u001b[39;49m\u001b[43mtrend\u001b[49m\u001b[43m)\u001b[49m\n",
      "File \u001b[0;32m/Library/Frameworks/Python.framework/Versions/3.10/lib/python3.10/site-packages/statsmodels/tsa/vector_ar/var_model.py:737\u001b[0m, in \u001b[0;36mVAR._estimate_var\u001b[0;34m(self, lags, offset, trend)\u001b[0m\n\u001b[1;32m    735\u001b[0m         z[:, i] \u001b[38;5;241m+\u001b[39m\u001b[38;5;241m=\u001b[39m lags\n\u001b[1;32m    736\u001b[0m     \u001b[38;5;66;03m# make the same adjustment for the quadratic term\u001b[39;00m\n\u001b[0;32m--> 737\u001b[0m     \u001b[38;5;28;01mif\u001b[39;00m (np\u001b[38;5;241m.\u001b[39mdiff(\u001b[43mnp\u001b[49m\u001b[38;5;241;43m.\u001b[39;49m\u001b[43msqrt\u001b[49m\u001b[43m(\u001b[49m\u001b[43mz\u001b[49m\u001b[43m[\u001b[49m\u001b[43m:\u001b[49m\u001b[43m,\u001b[49m\u001b[43m \u001b[49m\u001b[43mi\u001b[49m\u001b[43m]\u001b[49m\u001b[43m)\u001b[49m) \u001b[38;5;241m==\u001b[39m \u001b[38;5;241m1\u001b[39m)\u001b[38;5;241m.\u001b[39mall():\n\u001b[1;32m    738\u001b[0m         z[:, i] \u001b[38;5;241m=\u001b[39m (np\u001b[38;5;241m.\u001b[39msqrt(z[:, i]) \u001b[38;5;241m+\u001b[39m lags) \u001b[38;5;241m*\u001b[39m\u001b[38;5;241m*\u001b[39m \u001b[38;5;241m2\u001b[39m\n\u001b[1;32m    740\u001b[0m y_sample \u001b[38;5;241m=\u001b[39m endog[lags:]\n",
      "\u001b[0;31mTypeError\u001b[0m: loop of ufunc does not support argument 0 of type float which has no callable sqrt method"
     ]
    }
   ],
   "source": [
    "for i in range(1, 11):\n",
    "    model = VAR(np.asarray(train))\n",
    "    results = model.fit(i)\n",
    "    print(\"Order: \" + i)\n",
    "    print(\"AIC: \" + results.aic)\n",
    "    print(\"BIC: \" + results.bic)"
   ]
  },
  {
   "cell_type": "code",
   "execution_count": 60,
   "id": "d2993085",
   "metadata": {},
   "outputs": [
    {
     "data": {
      "text/plain": [
       "time      datetime64[ns]\n",
       "gamma2           float64\n",
       "gamma3           float64\n",
       "gamma4           float64\n",
       "gamma5           float64\n",
       "gamma6           float64\n",
       "gamma7           float64\n",
       "gamma8           float64\n",
       "gamma9           float64\n",
       "dtype: object"
      ]
     },
     "execution_count": 60,
     "metadata": {},
     "output_type": "execute_result"
    }
   ],
   "source": [
    "dataFull.dtypes"
   ]
  },
  {
   "cell_type": "code",
   "execution_count": null,
   "id": "d8a7fc78",
   "metadata": {},
   "outputs": [],
   "source": []
  }
 ],
 "metadata": {
  "kernelspec": {
   "display_name": "Python 3",
   "language": "python",
   "name": "python3"
  },
  "language_info": {
   "codemirror_mode": {
    "name": "ipython",
    "version": 3
   },
   "file_extension": ".py",
   "mimetype": "text/x-python",
   "name": "python",
   "nbconvert_exporter": "python",
   "pygments_lexer": "ipython3",
   "version": "3.10.7"
  }
 },
 "nbformat": 4,
 "nbformat_minor": 5
}
